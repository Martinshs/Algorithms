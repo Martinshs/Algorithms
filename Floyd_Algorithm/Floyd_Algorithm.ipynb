{
 "cells": [
  {
   "cell_type": "code",
   "execution_count": 76,
   "metadata": {},
   "outputs": [],
   "source": [
    "import numpy as np                \n",
    "from numpy import linalg as LA    #For the varinici algorithm\n",
    "import matplotlib.pyplot as plt   #For the gifs\n",
    "import imageio                    #For the gifs\n",
    "import os\n",
    "from scipy.spatial import ConvexHull, convex_hull_plot_2d #To plot the boundary of each cell\n"
   ]
  },
  {
   "cell_type": "code",
   "execution_count": 382,
   "metadata": {},
   "outputs": [],
   "source": [
    "def varinoci(dots,size_domine,partition):\n",
    "    ############\n",
    "    # We divide the domine following the parameters, then travel for all the mesh classifying the dots. As you can see this is \n",
    "    # a expensive way to compute the voronoid diagram. There exist a more cleaver way to do this. This is using Fortune's \n",
    "    # algorithm https://en.wikipedia.org/wiki/Fortune%27s_algorithm \n",
    "    ############\n",
    "    tessellation = {}\n",
    "    X = np.linspace(0, size_domine[0], partition)\n",
    "    Y = np.linspace(0, size_domine[1], partition)  \n",
    "    for i in range(partition):\n",
    "        for j in range(partition):          \n",
    "            minimo = 500  \n",
    "            actual_dot = [X[i],Y[j]]\n",
    "            for k in range(len(dots)):      \n",
    "                value =  LA.norm(actual_dot - dots[k])\n",
    "                if value < minimo:\n",
    "                    minimo = value\n",
    "                    k_star = k\n",
    "            if k_star in tessellation.keys():\n",
    "                tessellation[k_star].append(actual_dot)\n",
    "            else:\n",
    "                tessellation[k_star] = [actual_dot]\n",
    "     \n",
    "    return tessellation"
   ]
  },
  {
   "cell_type": "code",
   "execution_count": 383,
   "metadata": {},
   "outputs": [],
   "source": [
    "def new_centroids(tessellation,dots,partition,size_domine):\n",
    "    ############\n",
    "    # We estimate the centroids of each section.\n",
    "    ###########\n",
    "    new_dots=[]\n",
    "    h=size_domine[0]/(partition-1)\n",
    "    for i in range(len(tessellation.keys())):\n",
    "        xi=np.array(tessellation[i])\n",
    "        #print(xi.shape)\n",
    "        #hull = ConvexHull(xi)\n",
    "        #print(hull.volume)\n",
    "        #CI = hull.volume\n",
    "        CI = xi.shape[0] \n",
    "        #print(CI)\n",
    "        new_dots.append((1/CI)*np.sum(xi,axis=0))\n",
    "    return np.array(new_dots)"
   ]
  },
  {
   "cell_type": "code",
   "execution_count": 516,
   "metadata": {},
   "outputs": [],
   "source": [
    "def plot_tessell(N,tessellation,new_dots,itera,imagen_names):\n",
    "    ################\n",
    "    # To plot the tessellation with differents colors.\n",
    "    ################\n",
    "    cwd = os.getcwd()\n",
    "\n",
    "    newpath = os.path.join(cwd,\"imagen\") #We create a new path to save the images\n",
    "    if not os.path.exists(newpath):\n",
    "        os.makedirs(newpath)\n",
    "    \n",
    "    plt.figure(itera)\n",
    "    for k in range(N):\n",
    "        points=np.array(tessellation[k])\n",
    "        hull = ConvexHull(points)\n",
    "        a=0.5 \n",
    "        x=points[hull.vertices,0]\n",
    "        y=points[hull.vertices,1]\n",
    "        plt.fill(x,y,c = 'C'+str(k), alpha=a)\n",
    "        \n",
    "        for simplex in hull.simplices:\n",
    "            plt.plot(points[simplex, 0], points[simplex, 1], 'k-',linewidth = 3.1)\n",
    "        \n",
    "    plt.scatter(new_dots[:,0], new_dots[:,1], c = 'k' , s = 20, linewidth = 2 )   \n",
    "    plt.axis('off')\n",
    "    \n",
    "            \n",
    "    #plt.savefig(newpath+'\\\\Floyd_algorithm_'+str(itera)+'.png')\n",
    "    save_path=os.path.join(newpath,'Floyd_algorithm_'+str(itera)+'.png') #We save the images\n",
    "                           \n",
    "    plt.savefig(save_path)\n",
    "    plt.close()\n",
    "    imagen_names.append(save_path)\n",
    "    return imagen_names"
   ]
  },
  {
   "cell_type": "code",
   "execution_count": 517,
   "metadata": {},
   "outputs": [],
   "source": [
    "def floyd_algoritm(Iterations,N,size_domine,partition,seed=None,plot=False,history=False):\n",
    "    ###############\n",
    "    # Main funtion who assambles the algorithm\n",
    "    ###############\n",
    "    if seed is not None:\n",
    "        np.random.seed(seed)\n",
    "        \n",
    "    new_dots = np.random.random([N,2])*size_domine\n",
    "    \n",
    "    history_tessell = []\n",
    "    history_dots    = [new_dots]\n",
    "    imagen_names=[]\n",
    "\n",
    "    for itera in range(Iterations):\n",
    "        tessellation  =  varinoci(new_dots,size_domine,partition)\n",
    "        new_dots      =  new_centroids(tessellation,new_dots,partition,size_domine)\n",
    "        if plot == True:\n",
    "            imagen_names = plot_tessell(N,tessellation,new_dots,itera,imagen_names)\n",
    "            #print('finish plot Number:' +str(itera))\n",
    "        if history==True:    \n",
    "            history_tessell.append(tessellation)\n",
    "            history_dots.append(new_dots)\n",
    "        if itera%10==0:\n",
    "            print('iteration number '+str(itera)+' executed.')\n",
    "    return imagen_names, history_tessell, history_dots"
   ]
  },
  {
   "cell_type": "code",
   "execution_count": 519,
   "metadata": {},
   "outputs": [
    {
     "name": "stdout",
     "output_type": "stream",
     "text": [
      "iteration number 0 executed.\n"
     ]
    }
   ],
   "source": [
    "############### SETINGS #################\n",
    "\n",
    "size_domine=[2,2]  #Define the size of the domine (a square with a vertix in (0,0))\n",
    "N_dots = 8        #How much dots in your example you need\n",
    "iterations = 200    #How much iterations\n",
    "plot = True       #If you need to plot or not\n",
    "history = False    #If you need the history of each iteration\n",
    "seed = 6           #If you coment this line, each example will to have differents dots\n",
    "partition=350       #The resolution of the mesh\n",
    "\n",
    "########### MAIN ALGORITHM ##################\n",
    "\n",
    "\n",
    "imagen_names, history_tessell, history_dots=floyd_algoritm(iterations,N_dots,size_domine,partition,seed,plot,history)\n",
    "\n",
    "\n"
   ]
  },
  {
   "cell_type": "code",
   "execution_count": 520,
   "metadata": {},
   "outputs": [],
   "source": [
    "############## GIF #################\n",
    "if plot is True:\n",
    "    new_imagen_names=[]\n",
    "    Frames=1                       #If you want an animation more slow, you can increce this parameter\n",
    "    for itera in range(iterations):\n",
    "        for frame in range(Frames):\n",
    "            new_imagen_names.append(imagen_names[itera])\n",
    "            \n",
    "    gif_name='Lloyd_algorithm_P'+str(partition)+'_S'+str(seed)+'_Dim'+str(size_domine[0])+'x'+str(size_domine[1])+'_I'+str(iterations)+'_N'+str(N_dots)\n",
    "    \n",
    "    cwd = os.getcwd()\n",
    "    \n",
    "    newpath_gif = cwd + '\\\\gifs' \n",
    "    if not os.path.exists(newpath_gif):\n",
    "        os.makedirs(newpath_gif)\n",
    "    \n",
    "    with imageio.get_writer(newpath_gif+'\\\\'+gif_name+'.gif', mode='I') as writer:\n",
    "        for filename in new_imagen_names:\n",
    "            image = imageio.imread(filename)\n",
    "            writer.append_data(image)\n"
   ]
  }
 ],
 "metadata": {
  "kernelspec": {
   "display_name": "Python 3 (ipykernel)",
   "language": "python",
   "name": "python3"
  },
  "language_info": {
   "codemirror_mode": {
    "name": "ipython",
    "version": 3
   },
   "file_extension": ".py",
   "mimetype": "text/x-python",
   "name": "python",
   "nbconvert_exporter": "python",
   "pygments_lexer": "ipython3",
   "version": "3.9.7"
  }
 },
 "nbformat": 4,
 "nbformat_minor": 4
}
